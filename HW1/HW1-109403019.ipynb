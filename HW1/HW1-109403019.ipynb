{
  "nbformat": 4,
  "nbformat_minor": 0,
  "metadata": {
    "colab": {
      "provenance": [],
      "collapsed_sections": []
    },
    "kernelspec": {
      "name": "python3",
      "display_name": "Python 3"
    },
    "language_info": {
      "name": "python"
    }
  },
  "cells": [
    {
      "cell_type": "markdown",
      "source": [
        "# HW1-109403019\n",
        "\n",
        "Student Info: MIS 3A 109403019 鄒翔宇"
      ],
      "metadata": {
        "id": "6Vyg-9Koi-yT"
      }
    },
    {
      "cell_type": "markdown",
      "source": [
        "# Prerequisite"
      ],
      "metadata": {
        "id": "e19Oj2zxyWSG"
      }
    },
    {
      "cell_type": "markdown",
      "source": [
        "Using PyDrive to load the data from Google Drive.\n",
        "\n",
        "We are first required to install the PyDrive library f from the python installer(pip) and **execute** the following.\n",
        "\n",
        "References from [Ways to import CSV files in Google Colab - GeekforGeeks](https://www.geeksforgeeks.org/ways-to-import-csv-files-in-google-colab/)."
      ],
      "metadata": {
        "id": "PbvDoreE-Uti"
      }
    },
    {
      "cell_type": "code",
      "source": [
        "# Code to read csv file into Colaboratory:\n",
        "!pip install -U -q PyDrive\n",
        "from pydrive.auth import GoogleAuth\n",
        "from pydrive.drive import GoogleDrive\n",
        "from google.colab import auth\n",
        "from oauth2client.client import GoogleCredentials\n",
        "# Authenticate and create the PyDrive client.\n",
        "auth.authenticate_user()\n",
        "gauth = GoogleAuth()\n",
        "gauth.credentials = GoogleCredentials.get_application_default()\n",
        "drive = GoogleDrive(gauth)"
      ],
      "metadata": {
        "id": "eVBNZIRZ8rd5"
      },
      "execution_count": 51,
      "outputs": []
    },
    {
      "cell_type": "markdown",
      "source": [
        "Import library we needed.\n"
      ],
      "metadata": {
        "id": "FWwATUPy-tUf"
      }
    },
    {
      "cell_type": "code",
      "source": [
        "import numpy as np\n",
        "from datascience import *\n",
        "\n",
        "import matplotlib\n",
        "%matplotlib inline\n",
        "import matplotlib.pyplot as plots\n",
        "plots.style.use('fivethirtyeight')"
      ],
      "metadata": {
        "id": "V1EyDUVymNsU"
      },
      "execution_count": 52,
      "outputs": []
    },
    {
      "cell_type": "markdown",
      "source": [
        "Enable matplotlib to show 繁體中文 without causing *RuntimeWarning: Glyph xxxxx missing from current font*.\n",
        "\n",
        "References from [Colab 進行matplotlib繪圖時顯示繁體中文](https://colab.research.google.com/github/willismax/matplotlib_show_chinese_in_colab/blob/master/matplotlib_show_chinese_in_colab.ipynb#scrollTo=GJWjDw-iNdCm)."
      ],
      "metadata": {
        "id": "-le1DIt-lXBU"
      }
    },
    {
      "cell_type": "code",
      "source": [
        "# Colab 進行matplotlib繪圖時顯示繁體中文\n",
        "# 下載台北思源黑體並命名taipei_sans_tc_beta.ttf，移至指定路徑\n",
        "!wget -O TaipeiSansTCBeta-Regular.ttf https://drive.google.com/uc?id=1eGAsTN1HBpJAkeVM57_C7ccp7hbgSz3_&export=download\n",
        "\n",
        "from matplotlib.font_manager import fontManager\n",
        "\n",
        "# 改style要在改font之前\n",
        "# plt.style.use('seaborn')  \n",
        "\n",
        "fontManager.addfont('TaipeiSansTCBeta-Regular.ttf')\n",
        "matplotlib.rc('font', family='Taipei Sans TC Beta')"
      ],
      "metadata": {
        "colab": {
          "base_uri": "https://localhost:8080/"
        },
        "id": "zrc1rKOalNmE",
        "outputId": "2724e5c8-da94-469c-e9c9-ba5824049206"
      },
      "execution_count": 53,
      "outputs": [
        {
          "output_type": "stream",
          "name": "stdout",
          "text": [
            "--2022-10-04 02:52:57--  https://drive.google.com/uc?id=1eGAsTN1HBpJAkeVM57_C7ccp7hbgSz3_\n",
            "Resolving drive.google.com (drive.google.com)... 173.194.217.101, 173.194.217.102, 173.194.217.138, ...\n",
            "Connecting to drive.google.com (drive.google.com)|173.194.217.101|:443... connected.\n",
            "HTTP request sent, awaiting response... 303 See Other\n",
            "Location: https://doc-0k-9o-docs.googleusercontent.com/docs/securesc/ha0ro937gcuc7l7deffksulhg5h7mbp1/3gs06r5kp9ot4287j5tou8v9eaj2c85l/1664851950000/02847987870453524430/*/1eGAsTN1HBpJAkeVM57_C7ccp7hbgSz3_?uuid=1a72dde5-69a7-43ac-a7e6-b8574e1aa3c1 [following]\n",
            "Warning: wildcards not supported in HTTP.\n",
            "--2022-10-04 02:53:01--  https://doc-0k-9o-docs.googleusercontent.com/docs/securesc/ha0ro937gcuc7l7deffksulhg5h7mbp1/3gs06r5kp9ot4287j5tou8v9eaj2c85l/1664851950000/02847987870453524430/*/1eGAsTN1HBpJAkeVM57_C7ccp7hbgSz3_?uuid=1a72dde5-69a7-43ac-a7e6-b8574e1aa3c1\n",
            "Resolving doc-0k-9o-docs.googleusercontent.com (doc-0k-9o-docs.googleusercontent.com)... 172.217.193.132, 2607:f8b0:400c:c03::84\n",
            "Connecting to doc-0k-9o-docs.googleusercontent.com (doc-0k-9o-docs.googleusercontent.com)|172.217.193.132|:443... connected.\n",
            "HTTP request sent, awaiting response... 200 OK\n",
            "Length: 20659344 (20M) [application/x-font-ttf]\n",
            "Saving to: ‘TaipeiSansTCBeta-Regular.ttf’\n",
            "\n",
            "TaipeiSansTCBeta-Re 100%[===================>]  19.70M  95.9MB/s    in 0.2s    \n",
            "\n",
            "2022-10-04 02:53:01 (95.9 MB/s) - ‘TaipeiSansTCBeta-Regular.ttf’ saved [20659344/20659344]\n",
            "\n"
          ]
        }
      ]
    },
    {
      "cell_type": "markdown",
      "source": [
        "# 1. Please write code in Colab to read the table and report its size (# of columns and rows)"
      ],
      "metadata": {
        "id": "iEO_ARPOPEBV"
      }
    },
    {
      "cell_type": "code",
      "source": [
        "# The sharable link of data we would use\n",
        "link = 'https://drive.google.com/file/d/1-1pxROWH91P54OGDSzkfCfkCuEgGNllr/view?usp=sharing' \n",
        "\n",
        "# to get the id part of the file\n",
        "id = link.split(\"/\")[-2]\n",
        "\n",
        "\n",
        "file_name = 'group_summary_table_20220929.csv'\n",
        "\n",
        "downloaded = drive.CreateFile({'id':id}) \n",
        "downloaded.GetContentFile(file_name) \n",
        "\n",
        "tbl = Table.read_table(file_name)\n",
        "tbl.show()  # show the entire table to find the anomaly row"
      ],
      "metadata": {
        "colab": {
          "base_uri": "https://localhost:8080/",
          "height": 1000
        },
        "id": "PCaN2O8flUT4",
        "outputId": "9bffc259-294f-49b9-fa40-0d45c03a2b94"
      },
      "execution_count": 54,
      "outputs": [
        {
          "output_type": "display_data",
          "data": {
            "text/plain": [
              "<IPython.core.display.HTML object>"
            ],
            "text/html": [
              "<table border=\"1\" class=\"dataframe\">\n",
              "    <thead>\n",
              "        <tr>\n",
              "            <th>性別</th> <th>入學管道</th> <th>離校院別名稱(中)</th> <th>num_students</th> <th>credits_mean</th> <th>credits_std</th> <th>gpa_mean</th> <th>gpa_std</th>\n",
              "        </tr>\n",
              "    </thead>\n",
              "    <tbody>\n",
              "        <tr>\n",
              "            <td>女   </td> <td>學士班(指考分發/聯考)</td> <td>地球科學學院   </td> <td>95          </td> <td>152.642     </td> <td>15.29      </td> <td>78.1504 </td> <td>7.17645</td>\n",
              "        </tr>\n",
              "        <tr>\n",
              "            <td>女   </td> <td>學士班(指考分發/聯考)</td> <td>客家學院     </td> <td>17          </td> <td>151.824     </td> <td>16.7639    </td> <td>80.1531 </td> <td>6.12428</td>\n",
              "        </tr>\n",
              "        <tr>\n",
              "            <td>女   </td> <td>學士班(指考分發/聯考)</td> <td>工學院      </td> <td>174         </td> <td>151.075     </td> <td>16.5397    </td> <td>78.8585 </td> <td>6.41941</td>\n",
              "        </tr>\n",
              "        <tr>\n",
              "            <td>女   </td> <td>學士班(指考分發/聯考)</td> <td>文學院      </td> <td>686         </td> <td>154.219     </td> <td>20.8801    </td> <td>79.4352 </td> <td>5.83358</td>\n",
              "        </tr>\n",
              "        <tr>\n",
              "            <td>女   </td> <td>學士班(指考分發/聯考)</td> <td>文學院中國文學系 </td> <td>1           </td> <td>172         </td> <td>nan        </td> <td>85.0756 </td> <td>nan    </td>\n",
              "        </tr>\n",
              "        <tr>\n",
              "            <td>女   </td> <td>學士班(指考分發/聯考)</td> <td>理學院      </td> <td>191         </td> <td>149.953     </td> <td>13.3548    </td> <td>77.0528 </td> <td>6.97312</td>\n",
              "        </tr>\n",
              "        <tr>\n",
              "            <td>女   </td> <td>學士班(指考分發/聯考)</td> <td>生醫理工學院   </td> <td>76          </td> <td>151.961     </td> <td>17.8044    </td> <td>78.398  </td> <td>7.0676 </td>\n",
              "        </tr>\n",
              "        <tr>\n",
              "            <td>女   </td> <td>學士班(指考分發/聯考)</td> <td>管理學院     </td> <td>756         </td> <td>152.718     </td> <td>14.3223    </td> <td>78.5168 </td> <td>6.68581</td>\n",
              "        </tr>\n",
              "        <tr>\n",
              "            <td>女   </td> <td>學士班(指考分發/聯考)</td> <td>資訊電機學院   </td> <td>119         </td> <td>150.126     </td> <td>14.8715    </td> <td>81.3947 </td> <td>6.56094</td>\n",
              "        </tr>\n",
              "        <tr>\n",
              "            <td>女   </td> <td>學士班申請入學     </td> <td>地球科學學院   </td> <td>134         </td> <td>155.507     </td> <td>15.7703    </td> <td>79.731  </td> <td>7.3229 </td>\n",
              "        </tr>\n",
              "        <tr>\n",
              "            <td>女   </td> <td>學士班申請入學     </td> <td>客家學院     </td> <td>31          </td> <td>161.677     </td> <td>32.0639    </td> <td>83.1672 </td> <td>5.32421</td>\n",
              "        </tr>\n",
              "        <tr>\n",
              "            <td>女   </td> <td>學士班申請入學     </td> <td>工學院      </td> <td>105         </td> <td>152.61      </td> <td>15.4668    </td> <td>79.2026 </td> <td>7.36438</td>\n",
              "        </tr>\n",
              "        <tr>\n",
              "            <td>女   </td> <td>學士班申請入學     </td> <td>文學院      </td> <td>174         </td> <td>153.925     </td> <td>19.8355    </td> <td>80.6999 </td> <td>5.91329</td>\n",
              "        </tr>\n",
              "        <tr>\n",
              "            <td>女   </td> <td>學士班申請入學     </td> <td>理學院      </td> <td>88          </td> <td>153.739     </td> <td>16.8055    </td> <td>75.6452 </td> <td>7.49452</td>\n",
              "        </tr>\n",
              "        <tr>\n",
              "            <td>女   </td> <td>學士班申請入學     </td> <td>生醫理工學院   </td> <td>26          </td> <td>154.654     </td> <td>17.7853    </td> <td>83.9433 </td> <td>6.30643</td>\n",
              "        </tr>\n",
              "        <tr>\n",
              "            <td>女   </td> <td>學士班申請入學     </td> <td>管理學院     </td> <td>339         </td> <td>152.248     </td> <td>13.7584    </td> <td>80.4015 </td> <td>6.56043</td>\n",
              "        </tr>\n",
              "        <tr>\n",
              "            <td>女   </td> <td>學士班申請入學     </td> <td>資訊電機學院   </td> <td>154         </td> <td>149.227     </td> <td>11.6706    </td> <td>81.1971 </td> <td>6.00413</td>\n",
              "        </tr>\n",
              "        <tr>\n",
              "            <td>女   </td> <td>繁星推薦        </td> <td>地球科學學院   </td> <td>44          </td> <td>153.705     </td> <td>15.6199    </td> <td>80.3185 </td> <td>7.37509</td>\n",
              "        </tr>\n",
              "        <tr>\n",
              "            <td>女   </td> <td>繁星推薦        </td> <td>客家學院     </td> <td>8           </td> <td>152         </td> <td>17.2212    </td> <td>81.7539 </td> <td>6.03257</td>\n",
              "        </tr>\n",
              "        <tr>\n",
              "            <td>女   </td> <td>繁星推薦        </td> <td>工學院      </td> <td>89          </td> <td>148.82      </td> <td>13.4287    </td> <td>80.7296 </td> <td>6.16701</td>\n",
              "        </tr>\n",
              "        <tr>\n",
              "            <td>女   </td> <td>繁星推薦        </td> <td>文學院      </td> <td>136         </td> <td>154.676     </td> <td>21.9085    </td> <td>83.2011 </td> <td>4.51257</td>\n",
              "        </tr>\n",
              "        <tr>\n",
              "            <td>女   </td> <td>繁星推薦        </td> <td>理學院      </td> <td>95          </td> <td>149.389     </td> <td>14.1649    </td> <td>78.7043 </td> <td>6.72511</td>\n",
              "        </tr>\n",
              "        <tr>\n",
              "            <td>女   </td> <td>繁星推薦        </td> <td>生醫理工學院   </td> <td>45          </td> <td>147.067     </td> <td>11.2662    </td> <td>81.2988 </td> <td>6.49154</td>\n",
              "        </tr>\n",
              "        <tr>\n",
              "            <td>女   </td> <td>繁星推薦        </td> <td>管理學院     </td> <td>275         </td> <td>150.189     </td> <td>14.0073    </td> <td>83.6268 </td> <td>5.72336</td>\n",
              "        </tr>\n",
              "        <tr>\n",
              "            <td>女   </td> <td>繁星推薦        </td> <td>資訊電機學院   </td> <td>112         </td> <td>143.384     </td> <td>10.0407    </td> <td>82.9084 </td> <td>5.44745</td>\n",
              "        </tr>\n",
              "        <tr>\n",
              "            <td>男   </td> <td>學士班(指考分發/聯考)</td> <td>地球科學學院   </td> <td>281         </td> <td>160.068     </td> <td>19.3984    </td> <td>73.6017 </td> <td>7.97283</td>\n",
              "        </tr>\n",
              "        <tr>\n",
              "            <td>男   </td> <td>學士班(指考分發/聯考)</td> <td>客家學院     </td> <td>8           </td> <td>155.125     </td> <td>16.1726    </td> <td>75.7277 </td> <td>5.96782</td>\n",
              "        </tr>\n",
              "        <tr>\n",
              "            <td>男   </td> <td>學士班(指考分發/聯考)</td> <td>工學院      </td> <td>1057        </td> <td>157.708     </td> <td>17.2252    </td> <td>73.1018 </td> <td>7.65537</td>\n",
              "        </tr>\n",
              "        <tr>\n",
              "            <td>男   </td> <td>學士班(指考分發/聯考)</td> <td>文學院      </td> <td>164         </td> <td>155.378     </td> <td>22.3215    </td> <td>77.1973 </td> <td>7.09802</td>\n",
              "        </tr>\n",
              "        <tr>\n",
              "            <td>男   </td> <td>學士班(指考分發/聯考)</td> <td>理學院      </td> <td>737         </td> <td>156.783     </td> <td>20.3987    </td> <td>72.159  </td> <td>8.55137</td>\n",
              "        </tr>\n",
              "        <tr>\n",
              "            <td>男   </td> <td>學士班(指考分發/聯考)</td> <td>生醫理工學院   </td> <td>109         </td> <td>158.101     </td> <td>24.2498    </td> <td>75.2821 </td> <td>6.38147</td>\n",
              "        </tr>\n",
              "        <tr>\n",
              "            <td>男   </td> <td>學士班(指考分發/聯考)</td> <td>管理學院     </td> <td>732         </td> <td>156.158     </td> <td>17.0388    </td> <td>74.356  </td> <td>7.50636</td>\n",
              "        </tr>\n",
              "        <tr>\n",
              "            <td>男   </td> <td>學士班(指考分發/聯考)</td> <td>資訊電機學院   </td> <td>655         </td> <td>151.921     </td> <td>16.2611    </td> <td>76.9738 </td> <td>8.08537</td>\n",
              "        </tr>\n",
              "        <tr>\n",
              "            <td>男   </td> <td>學士班申請入學     </td> <td>地球科學學院   </td> <td>234         </td> <td>160.073     </td> <td>16.2908    </td> <td>75.5635 </td> <td>8.18826</td>\n",
              "        </tr>\n",
              "        <tr>\n",
              "            <td>男   </td> <td>學士班申請入學     </td> <td>客家學院     </td> <td>23          </td> <td>162         </td> <td>17.3284    </td> <td>76.3803 </td> <td>6.9355 </td>\n",
              "        </tr>\n",
              "        <tr>\n",
              "            <td>男   </td> <td>學士班申請入學     </td> <td>工學院      </td> <td>530         </td> <td>156.519     </td> <td>17.5759    </td> <td>74.0675 </td> <td>7.72984</td>\n",
              "        </tr>\n",
              "        <tr>\n",
              "            <td>男   </td> <td>學士班申請入學     </td> <td>文學院      </td> <td>30          </td> <td>152.667     </td> <td>16.9956    </td> <td>80.1726 </td> <td>5.80087</td>\n",
              "        </tr>\n",
              "        <tr>\n",
              "            <td>男   </td> <td>學士班申請入學     </td> <td>理學院      </td> <td>374         </td> <td>159.567     </td> <td>18.9878    </td> <td>72.6917 </td> <td>8.35853</td>\n",
              "        </tr>\n",
              "        <tr>\n",
              "            <td>男   </td> <td>學士班申請入學     </td> <td>生醫理工學院   </td> <td>38          </td> <td>155.684     </td> <td>18.0826    </td> <td>77.6296 </td> <td>6.81872</td>\n",
              "        </tr>\n",
              "        <tr>\n",
              "            <td>男   </td> <td>學士班申請入學     </td> <td>管理學院     </td> <td>320         </td> <td>154.197     </td> <td>15.0839    </td> <td>77.7765 </td> <td>7.04774</td>\n",
              "        </tr>\n",
              "        <tr>\n",
              "            <td>男   </td> <td>學士班申請入學     </td> <td>資訊電機學院   </td> <td>720         </td> <td>152.807     </td> <td>14.8006    </td> <td>76.5937 </td> <td>7.95171</td>\n",
              "        </tr>\n",
              "        <tr>\n",
              "            <td>男   </td> <td>繁星推薦        </td> <td>地球科學學院   </td> <td>61          </td> <td>157.311     </td> <td>14.8801    </td> <td>76.3137 </td> <td>7.15097</td>\n",
              "        </tr>\n",
              "        <tr>\n",
              "            <td>男   </td> <td>繁星推薦        </td> <td>客家學院     </td> <td>1           </td> <td>137         </td> <td>nan        </td> <td>87.8686 </td> <td>nan    </td>\n",
              "        </tr>\n",
              "        <tr>\n",
              "            <td>男   </td> <td>繁星推薦        </td> <td>工學院      </td> <td>262         </td> <td>155.24      </td> <td>15.4317    </td> <td>76.9163 </td> <td>7.28898</td>\n",
              "        </tr>\n",
              "        <tr>\n",
              "            <td>男   </td> <td>繁星推薦        </td> <td>文學院      </td> <td>22          </td> <td>157.682     </td> <td>18.9897    </td> <td>80.8873 </td> <td>6.82447</td>\n",
              "        </tr>\n",
              "        <tr>\n",
              "            <td>男   </td> <td>繁星推薦        </td> <td>理學院      </td> <td>168         </td> <td>153.238     </td> <td>15.5121    </td> <td>76.6096 </td> <td>7.88227</td>\n",
              "        </tr>\n",
              "        <tr>\n",
              "            <td>男   </td> <td>繁星推薦        </td> <td>生醫理工學院   </td> <td>42          </td> <td>154.405     </td> <td>18.9686    </td> <td>78.5568 </td> <td>8.11919</td>\n",
              "        </tr>\n",
              "        <tr>\n",
              "            <td>男   </td> <td>繁星推薦        </td> <td>管理學院     </td> <td>120         </td> <td>155.258     </td> <td>17.7336    </td> <td>79.9465 </td> <td>7.44268</td>\n",
              "        </tr>\n",
              "        <tr>\n",
              "            <td>男   </td> <td>繁星推薦        </td> <td>資訊電機學院   </td> <td>285         </td> <td>147.421     </td> <td>12.0222    </td> <td>80.2308 </td> <td>6.98216</td>\n",
              "        </tr>\n",
              "    </tbody>\n",
              "</table>"
            ]
          },
          "metadata": {}
        }
      ]
    },
    {
      "cell_type": "markdown",
      "source": [
        "Print out the # of rows and the # of this table."
      ],
      "metadata": {
        "id": "-WzKbKN-_52T"
      }
    },
    {
      "cell_type": "code",
      "source": [
        "print('# of columns:', tbl.num_columns) \n",
        "\n",
        "print('# of rows: ', tbl.num_rows)"
      ],
      "metadata": {
        "colab": {
          "base_uri": "https://localhost:8080/"
        },
        "id": "N911p_oYlsra",
        "outputId": "b6e7cc31-67bd-426c-8d84-ac7e8de9a970"
      },
      "execution_count": 55,
      "outputs": [
        {
          "output_type": "stream",
          "name": "stdout",
          "text": [
            "# of columns: 8\n",
            "# of rows:  49\n"
          ]
        }
      ]
    },
    {
      "cell_type": "markdown",
      "source": [
        "# 2. Which row looks like an anomaly and should be removed? Why?"
      ],
      "metadata": {
        "id": "RS9vyMQgO7qU"
      }
    },
    {
      "cell_type": "markdown",
      "source": [
        "Find those rows whose values in column *num_students* are pretty low(<= 5) and remove them.\n",
        "\n",
        "Because they would lead their own mean value and the standard deviation value to be meaningless when compared with other colleges"
      ],
      "metadata": {
        "id": "NIjxD95wPZcP"
      }
    },
    {
      "cell_type": "code",
      "source": [
        "threshold = 5\n",
        "\n",
        "tbl.where('num_students', are.below_or_equal_to(threshold))"
      ],
      "metadata": {
        "colab": {
          "base_uri": "https://localhost:8080/",
          "height": 112
        },
        "id": "H1X7LOOkcD4D",
        "outputId": "2f4495dc-0cd8-45a4-eb91-1114a1215548"
      },
      "execution_count": 56,
      "outputs": [
        {
          "output_type": "execute_result",
          "data": {
            "text/plain": [
              "性別   | 入學管道         | 離校院別名稱(中) | num_students | credits_mean | credits_std | gpa_mean | gpa_std\n",
              "女    | 學士班(指考分發/聯考) | 文學院中國文學系  | 1            | 172          | nan         | 85.0756  | nan\n",
              "男    | 繁星推薦         | 客家學院      | 1            | 137          | nan         | 87.8686  | nan"
            ],
            "text/html": [
              "<table border=\"1\" class=\"dataframe\">\n",
              "    <thead>\n",
              "        <tr>\n",
              "            <th>性別</th> <th>入學管道</th> <th>離校院別名稱(中)</th> <th>num_students</th> <th>credits_mean</th> <th>credits_std</th> <th>gpa_mean</th> <th>gpa_std</th>\n",
              "        </tr>\n",
              "    </thead>\n",
              "    <tbody>\n",
              "        <tr>\n",
              "            <td>女   </td> <td>學士班(指考分發/聯考)</td> <td>文學院中國文學系 </td> <td>1           </td> <td>172         </td> <td>nan        </td> <td>85.0756 </td> <td>nan    </td>\n",
              "        </tr>\n",
              "        <tr>\n",
              "            <td>男   </td> <td>繁星推薦        </td> <td>客家學院     </td> <td>1           </td> <td>137         </td> <td>nan        </td> <td>87.8686 </td> <td>nan    </td>\n",
              "        </tr>\n",
              "    </tbody>\n",
              "</table>"
            ]
          },
          "metadata": {},
          "execution_count": 56
        }
      ]
    },
    {
      "cell_type": "markdown",
      "source": [
        "Get the updated table and show it."
      ],
      "metadata": {
        "id": "CQGUUwKUcigs"
      }
    },
    {
      "cell_type": "code",
      "source": [
        "# return an updated table that have a certain feature\n",
        "updated_tbl = tbl.where('num_students', are.above(threshold))\n",
        "\n",
        "# show the entire table to check whether our result table is correct\n",
        "updated_tbl.show()  "
      ],
      "metadata": {
        "colab": {
          "base_uri": "https://localhost:8080/",
          "height": 1000
        },
        "id": "8uLBk_o9_5BT",
        "outputId": "c21af42f-8361-465a-db11-be1e9e252375"
      },
      "execution_count": 57,
      "outputs": [
        {
          "output_type": "display_data",
          "data": {
            "text/plain": [
              "<IPython.core.display.HTML object>"
            ],
            "text/html": [
              "<table border=\"1\" class=\"dataframe\">\n",
              "    <thead>\n",
              "        <tr>\n",
              "            <th>性別</th> <th>入學管道</th> <th>離校院別名稱(中)</th> <th>num_students</th> <th>credits_mean</th> <th>credits_std</th> <th>gpa_mean</th> <th>gpa_std</th>\n",
              "        </tr>\n",
              "    </thead>\n",
              "    <tbody>\n",
              "        <tr>\n",
              "            <td>女   </td> <td>學士班(指考分發/聯考)</td> <td>地球科學學院   </td> <td>95          </td> <td>152.642     </td> <td>15.29      </td> <td>78.1504 </td> <td>7.17645</td>\n",
              "        </tr>\n",
              "        <tr>\n",
              "            <td>女   </td> <td>學士班(指考分發/聯考)</td> <td>客家學院     </td> <td>17          </td> <td>151.824     </td> <td>16.7639    </td> <td>80.1531 </td> <td>6.12428</td>\n",
              "        </tr>\n",
              "        <tr>\n",
              "            <td>女   </td> <td>學士班(指考分發/聯考)</td> <td>工學院      </td> <td>174         </td> <td>151.075     </td> <td>16.5397    </td> <td>78.8585 </td> <td>6.41941</td>\n",
              "        </tr>\n",
              "        <tr>\n",
              "            <td>女   </td> <td>學士班(指考分發/聯考)</td> <td>文學院      </td> <td>686         </td> <td>154.219     </td> <td>20.8801    </td> <td>79.4352 </td> <td>5.83358</td>\n",
              "        </tr>\n",
              "        <tr>\n",
              "            <td>女   </td> <td>學士班(指考分發/聯考)</td> <td>理學院      </td> <td>191         </td> <td>149.953     </td> <td>13.3548    </td> <td>77.0528 </td> <td>6.97312</td>\n",
              "        </tr>\n",
              "        <tr>\n",
              "            <td>女   </td> <td>學士班(指考分發/聯考)</td> <td>生醫理工學院   </td> <td>76          </td> <td>151.961     </td> <td>17.8044    </td> <td>78.398  </td> <td>7.0676 </td>\n",
              "        </tr>\n",
              "        <tr>\n",
              "            <td>女   </td> <td>學士班(指考分發/聯考)</td> <td>管理學院     </td> <td>756         </td> <td>152.718     </td> <td>14.3223    </td> <td>78.5168 </td> <td>6.68581</td>\n",
              "        </tr>\n",
              "        <tr>\n",
              "            <td>女   </td> <td>學士班(指考分發/聯考)</td> <td>資訊電機學院   </td> <td>119         </td> <td>150.126     </td> <td>14.8715    </td> <td>81.3947 </td> <td>6.56094</td>\n",
              "        </tr>\n",
              "        <tr>\n",
              "            <td>女   </td> <td>學士班申請入學     </td> <td>地球科學學院   </td> <td>134         </td> <td>155.507     </td> <td>15.7703    </td> <td>79.731  </td> <td>7.3229 </td>\n",
              "        </tr>\n",
              "        <tr>\n",
              "            <td>女   </td> <td>學士班申請入學     </td> <td>客家學院     </td> <td>31          </td> <td>161.677     </td> <td>32.0639    </td> <td>83.1672 </td> <td>5.32421</td>\n",
              "        </tr>\n",
              "        <tr>\n",
              "            <td>女   </td> <td>學士班申請入學     </td> <td>工學院      </td> <td>105         </td> <td>152.61      </td> <td>15.4668    </td> <td>79.2026 </td> <td>7.36438</td>\n",
              "        </tr>\n",
              "        <tr>\n",
              "            <td>女   </td> <td>學士班申請入學     </td> <td>文學院      </td> <td>174         </td> <td>153.925     </td> <td>19.8355    </td> <td>80.6999 </td> <td>5.91329</td>\n",
              "        </tr>\n",
              "        <tr>\n",
              "            <td>女   </td> <td>學士班申請入學     </td> <td>理學院      </td> <td>88          </td> <td>153.739     </td> <td>16.8055    </td> <td>75.6452 </td> <td>7.49452</td>\n",
              "        </tr>\n",
              "        <tr>\n",
              "            <td>女   </td> <td>學士班申請入學     </td> <td>生醫理工學院   </td> <td>26          </td> <td>154.654     </td> <td>17.7853    </td> <td>83.9433 </td> <td>6.30643</td>\n",
              "        </tr>\n",
              "        <tr>\n",
              "            <td>女   </td> <td>學士班申請入學     </td> <td>管理學院     </td> <td>339         </td> <td>152.248     </td> <td>13.7584    </td> <td>80.4015 </td> <td>6.56043</td>\n",
              "        </tr>\n",
              "        <tr>\n",
              "            <td>女   </td> <td>學士班申請入學     </td> <td>資訊電機學院   </td> <td>154         </td> <td>149.227     </td> <td>11.6706    </td> <td>81.1971 </td> <td>6.00413</td>\n",
              "        </tr>\n",
              "        <tr>\n",
              "            <td>女   </td> <td>繁星推薦        </td> <td>地球科學學院   </td> <td>44          </td> <td>153.705     </td> <td>15.6199    </td> <td>80.3185 </td> <td>7.37509</td>\n",
              "        </tr>\n",
              "        <tr>\n",
              "            <td>女   </td> <td>繁星推薦        </td> <td>客家學院     </td> <td>8           </td> <td>152         </td> <td>17.2212    </td> <td>81.7539 </td> <td>6.03257</td>\n",
              "        </tr>\n",
              "        <tr>\n",
              "            <td>女   </td> <td>繁星推薦        </td> <td>工學院      </td> <td>89          </td> <td>148.82      </td> <td>13.4287    </td> <td>80.7296 </td> <td>6.16701</td>\n",
              "        </tr>\n",
              "        <tr>\n",
              "            <td>女   </td> <td>繁星推薦        </td> <td>文學院      </td> <td>136         </td> <td>154.676     </td> <td>21.9085    </td> <td>83.2011 </td> <td>4.51257</td>\n",
              "        </tr>\n",
              "        <tr>\n",
              "            <td>女   </td> <td>繁星推薦        </td> <td>理學院      </td> <td>95          </td> <td>149.389     </td> <td>14.1649    </td> <td>78.7043 </td> <td>6.72511</td>\n",
              "        </tr>\n",
              "        <tr>\n",
              "            <td>女   </td> <td>繁星推薦        </td> <td>生醫理工學院   </td> <td>45          </td> <td>147.067     </td> <td>11.2662    </td> <td>81.2988 </td> <td>6.49154</td>\n",
              "        </tr>\n",
              "        <tr>\n",
              "            <td>女   </td> <td>繁星推薦        </td> <td>管理學院     </td> <td>275         </td> <td>150.189     </td> <td>14.0073    </td> <td>83.6268 </td> <td>5.72336</td>\n",
              "        </tr>\n",
              "        <tr>\n",
              "            <td>女   </td> <td>繁星推薦        </td> <td>資訊電機學院   </td> <td>112         </td> <td>143.384     </td> <td>10.0407    </td> <td>82.9084 </td> <td>5.44745</td>\n",
              "        </tr>\n",
              "        <tr>\n",
              "            <td>男   </td> <td>學士班(指考分發/聯考)</td> <td>地球科學學院   </td> <td>281         </td> <td>160.068     </td> <td>19.3984    </td> <td>73.6017 </td> <td>7.97283</td>\n",
              "        </tr>\n",
              "        <tr>\n",
              "            <td>男   </td> <td>學士班(指考分發/聯考)</td> <td>客家學院     </td> <td>8           </td> <td>155.125     </td> <td>16.1726    </td> <td>75.7277 </td> <td>5.96782</td>\n",
              "        </tr>\n",
              "        <tr>\n",
              "            <td>男   </td> <td>學士班(指考分發/聯考)</td> <td>工學院      </td> <td>1057        </td> <td>157.708     </td> <td>17.2252    </td> <td>73.1018 </td> <td>7.65537</td>\n",
              "        </tr>\n",
              "        <tr>\n",
              "            <td>男   </td> <td>學士班(指考分發/聯考)</td> <td>文學院      </td> <td>164         </td> <td>155.378     </td> <td>22.3215    </td> <td>77.1973 </td> <td>7.09802</td>\n",
              "        </tr>\n",
              "        <tr>\n",
              "            <td>男   </td> <td>學士班(指考分發/聯考)</td> <td>理學院      </td> <td>737         </td> <td>156.783     </td> <td>20.3987    </td> <td>72.159  </td> <td>8.55137</td>\n",
              "        </tr>\n",
              "        <tr>\n",
              "            <td>男   </td> <td>學士班(指考分發/聯考)</td> <td>生醫理工學院   </td> <td>109         </td> <td>158.101     </td> <td>24.2498    </td> <td>75.2821 </td> <td>6.38147</td>\n",
              "        </tr>\n",
              "        <tr>\n",
              "            <td>男   </td> <td>學士班(指考分發/聯考)</td> <td>管理學院     </td> <td>732         </td> <td>156.158     </td> <td>17.0388    </td> <td>74.356  </td> <td>7.50636</td>\n",
              "        </tr>\n",
              "        <tr>\n",
              "            <td>男   </td> <td>學士班(指考分發/聯考)</td> <td>資訊電機學院   </td> <td>655         </td> <td>151.921     </td> <td>16.2611    </td> <td>76.9738 </td> <td>8.08537</td>\n",
              "        </tr>\n",
              "        <tr>\n",
              "            <td>男   </td> <td>學士班申請入學     </td> <td>地球科學學院   </td> <td>234         </td> <td>160.073     </td> <td>16.2908    </td> <td>75.5635 </td> <td>8.18826</td>\n",
              "        </tr>\n",
              "        <tr>\n",
              "            <td>男   </td> <td>學士班申請入學     </td> <td>客家學院     </td> <td>23          </td> <td>162         </td> <td>17.3284    </td> <td>76.3803 </td> <td>6.9355 </td>\n",
              "        </tr>\n",
              "        <tr>\n",
              "            <td>男   </td> <td>學士班申請入學     </td> <td>工學院      </td> <td>530         </td> <td>156.519     </td> <td>17.5759    </td> <td>74.0675 </td> <td>7.72984</td>\n",
              "        </tr>\n",
              "        <tr>\n",
              "            <td>男   </td> <td>學士班申請入學     </td> <td>文學院      </td> <td>30          </td> <td>152.667     </td> <td>16.9956    </td> <td>80.1726 </td> <td>5.80087</td>\n",
              "        </tr>\n",
              "        <tr>\n",
              "            <td>男   </td> <td>學士班申請入學     </td> <td>理學院      </td> <td>374         </td> <td>159.567     </td> <td>18.9878    </td> <td>72.6917 </td> <td>8.35853</td>\n",
              "        </tr>\n",
              "        <tr>\n",
              "            <td>男   </td> <td>學士班申請入學     </td> <td>生醫理工學院   </td> <td>38          </td> <td>155.684     </td> <td>18.0826    </td> <td>77.6296 </td> <td>6.81872</td>\n",
              "        </tr>\n",
              "        <tr>\n",
              "            <td>男   </td> <td>學士班申請入學     </td> <td>管理學院     </td> <td>320         </td> <td>154.197     </td> <td>15.0839    </td> <td>77.7765 </td> <td>7.04774</td>\n",
              "        </tr>\n",
              "        <tr>\n",
              "            <td>男   </td> <td>學士班申請入學     </td> <td>資訊電機學院   </td> <td>720         </td> <td>152.807     </td> <td>14.8006    </td> <td>76.5937 </td> <td>7.95171</td>\n",
              "        </tr>\n",
              "        <tr>\n",
              "            <td>男   </td> <td>繁星推薦        </td> <td>地球科學學院   </td> <td>61          </td> <td>157.311     </td> <td>14.8801    </td> <td>76.3137 </td> <td>7.15097</td>\n",
              "        </tr>\n",
              "        <tr>\n",
              "            <td>男   </td> <td>繁星推薦        </td> <td>工學院      </td> <td>262         </td> <td>155.24      </td> <td>15.4317    </td> <td>76.9163 </td> <td>7.28898</td>\n",
              "        </tr>\n",
              "        <tr>\n",
              "            <td>男   </td> <td>繁星推薦        </td> <td>文學院      </td> <td>22          </td> <td>157.682     </td> <td>18.9897    </td> <td>80.8873 </td> <td>6.82447</td>\n",
              "        </tr>\n",
              "        <tr>\n",
              "            <td>男   </td> <td>繁星推薦        </td> <td>理學院      </td> <td>168         </td> <td>153.238     </td> <td>15.5121    </td> <td>76.6096 </td> <td>7.88227</td>\n",
              "        </tr>\n",
              "        <tr>\n",
              "            <td>男   </td> <td>繁星推薦        </td> <td>生醫理工學院   </td> <td>42          </td> <td>154.405     </td> <td>18.9686    </td> <td>78.5568 </td> <td>8.11919</td>\n",
              "        </tr>\n",
              "        <tr>\n",
              "            <td>男   </td> <td>繁星推薦        </td> <td>管理學院     </td> <td>120         </td> <td>155.258     </td> <td>17.7336    </td> <td>79.9465 </td> <td>7.44268</td>\n",
              "        </tr>\n",
              "        <tr>\n",
              "            <td>男   </td> <td>繁星推薦        </td> <td>資訊電機學院   </td> <td>285         </td> <td>147.421     </td> <td>12.0222    </td> <td>80.2308 </td> <td>6.98216</td>\n",
              "        </tr>\n",
              "    </tbody>\n",
              "</table>"
            ]
          },
          "metadata": {}
        }
      ]
    },
    {
      "cell_type": "code",
      "source": [
        "print('# of rows after updated: ', updated_tbl.num_rows, '\\n')\n",
        "\n",
        "print('Total rows have been removed: ', tbl.num_rows - updated_tbl.num_rows)"
      ],
      "metadata": {
        "colab": {
          "base_uri": "https://localhost:8080/"
        },
        "id": "VkTYolwXZ7ZG",
        "outputId": "9ad866f7-5282-4a58-a73d-44057611ca6c"
      },
      "execution_count": 58,
      "outputs": [
        {
          "output_type": "stream",
          "name": "stdout",
          "text": [
            "# of rows after updated:  47 \n",
            "\n",
            "Total rows have been removed:  2\n"
          ]
        }
      ]
    },
    {
      "cell_type": "markdown",
      "source": [
        "# 3. Are there more girls than boys?"
      ],
      "metadata": {
        "id": "G40hoWhOct1Q"
      }
    },
    {
      "cell_type": "markdown",
      "source": [
        "Use `group` and `select` to find the # of boys and the # of girls."
      ],
      "metadata": {
        "id": "ymIDAjS6fIEp"
      }
    },
    {
      "cell_type": "code",
      "source": [
        "# Get the table grouped by gender, also with num_students sum column\n",
        "num_students_group_by_gender = updated_tbl.group('性別', sum).select('性別', 'num_students sum')\n",
        "\n",
        "num_students_group_by_gender.show()\n",
        "print()\n",
        "\n",
        "# Get the # of boys and the # of girls to find out whether there more girls than boys.\n",
        "num_female_students = num_students_group_by_gender.column('num_students sum').item(0)\n",
        "num_male_students = num_students_group_by_gender.column('num_students sum').item(1)\n",
        "\n",
        "print('Are there more girls than boys? ', num_female_students > num_male_students)"
      ],
      "metadata": {
        "colab": {
          "base_uri": "https://localhost:8080/",
          "height": 148
        },
        "id": "YPsFQX7IfFA6",
        "outputId": "97834f24-10ac-4dab-e067-e3a31cf33a3d"
      },
      "execution_count": 59,
      "outputs": [
        {
          "output_type": "display_data",
          "data": {
            "text/plain": [
              "<IPython.core.display.HTML object>"
            ],
            "text/html": [
              "<table border=\"1\" class=\"dataframe\">\n",
              "    <thead>\n",
              "        <tr>\n",
              "            <th>性別</th> <th>num_students sum</th>\n",
              "        </tr>\n",
              "    </thead>\n",
              "    <tbody>\n",
              "        <tr>\n",
              "            <td>女   </td> <td>3969            </td>\n",
              "        </tr>\n",
              "        <tr>\n",
              "            <td>男   </td> <td>6972            </td>\n",
              "        </tr>\n",
              "    </tbody>\n",
              "</table>"
            ]
          },
          "metadata": {}
        },
        {
          "output_type": "stream",
          "name": "stdout",
          "text": [
            "\n",
            "Are there more girls than boys?  False\n"
          ]
        }
      ]
    },
    {
      "cell_type": "markdown",
      "source": [
        "Create a new column to find the percentage of students are female or male."
      ],
      "metadata": {
        "id": "2EyOiLC_j7Wq"
      }
    },
    {
      "cell_type": "code",
      "source": [
        "total_students = num_female_students + num_male_students\n",
        "\n",
        "num_students_group_by_gender = num_students_group_by_gender.with_columns(\n",
        "    '%', num_students_group_by_gender.column('num_students sum')/total_students \n",
        ")\n",
        "\n",
        "num_students_group_by_gender"
      ],
      "metadata": {
        "colab": {
          "base_uri": "https://localhost:8080/",
          "height": 112
        },
        "id": "xsHm5oA7j682",
        "outputId": "9daec651-1791-4417-a303-56dadaaccc44"
      },
      "execution_count": 60,
      "outputs": [
        {
          "output_type": "execute_result",
          "data": {
            "text/plain": [
              "性別   | num_students sum | %\n",
              "女    | 3969             | 0.362764\n",
              "男    | 6972             | 0.637236"
            ],
            "text/html": [
              "<table border=\"1\" class=\"dataframe\">\n",
              "    <thead>\n",
              "        <tr>\n",
              "            <th>性別</th> <th>num_students sum</th> <th>%</th>\n",
              "        </tr>\n",
              "    </thead>\n",
              "    <tbody>\n",
              "        <tr>\n",
              "            <td>女   </td> <td>3969            </td> <td>0.362764</td>\n",
              "        </tr>\n",
              "        <tr>\n",
              "            <td>男   </td> <td>6972            </td> <td>0.637236</td>\n",
              "        </tr>\n",
              "    </tbody>\n",
              "</table>"
            ]
          },
          "metadata": {},
          "execution_count": 60
        }
      ]
    },
    {
      "cell_type": "markdown",
      "source": [
        "# 4. Which college has the most graduates?"
      ],
      "metadata": {
        "id": "eFf9ayRvtu8V"
      }
    },
    {
      "cell_type": "markdown",
      "source": [
        "Use `group`, `select` and `sort` to find which college has the most graduates."
      ],
      "metadata": {
        "id": "HlBll2t9t0vo"
      }
    },
    {
      "cell_type": "code",
      "source": [
        "# Get the table grouped by college, also with num_students sum column.\n",
        "num_students_group_by_college = updated_tbl.group('離校院別名稱(中)', sum).select('離校院別名稱(中)', 'num_students sum')\n",
        "\n",
        "# Show sum of grauates of all college.\n",
        "num_students_group_by_college.sort('num_students sum', descending=True).show()"
      ],
      "metadata": {
        "colab": {
          "base_uri": "https://localhost:8080/",
          "height": 300
        },
        "id": "WhpnKcItt4oV",
        "outputId": "43a891c7-d1f4-4274-b29c-bb6558f996e4"
      },
      "execution_count": 61,
      "outputs": [
        {
          "output_type": "display_data",
          "data": {
            "text/plain": [
              "<IPython.core.display.HTML object>"
            ],
            "text/html": [
              "<table border=\"1\" class=\"dataframe\">\n",
              "    <thead>\n",
              "        <tr>\n",
              "            <th>離校院別名稱(中)</th> <th>num_students sum</th>\n",
              "        </tr>\n",
              "    </thead>\n",
              "    <tbody>\n",
              "        <tr>\n",
              "            <td>管理學院     </td> <td>2542            </td>\n",
              "        </tr>\n",
              "        <tr>\n",
              "            <td>工學院      </td> <td>2217            </td>\n",
              "        </tr>\n",
              "        <tr>\n",
              "            <td>資訊電機學院   </td> <td>2045            </td>\n",
              "        </tr>\n",
              "        <tr>\n",
              "            <td>理學院      </td> <td>1653            </td>\n",
              "        </tr>\n",
              "        <tr>\n",
              "            <td>文學院      </td> <td>1212            </td>\n",
              "        </tr>\n",
              "        <tr>\n",
              "            <td>地球科學學院   </td> <td>849             </td>\n",
              "        </tr>\n",
              "        <tr>\n",
              "            <td>生醫理工學院   </td> <td>336             </td>\n",
              "        </tr>\n",
              "        <tr>\n",
              "            <td>客家學院     </td> <td>87              </td>\n",
              "        </tr>\n",
              "    </tbody>\n",
              "</table>"
            ]
          },
          "metadata": {}
        }
      ]
    },
    {
      "cell_type": "code",
      "source": [
        "college_has_most_graduates = num_students_group_by_college.sort('num_students sum', descending=True).column(0).item(0)\n",
        "num_most_graduates = num_students_group_by_college.sort('num_students sum', descending=True).column(1).item(0)\n",
        "\n",
        "print('College that has the most graduates is:', college_has_most_graduates, ' which has ', num_most_graduates, 'graduates')"
      ],
      "metadata": {
        "colab": {
          "base_uri": "https://localhost:8080/"
        },
        "id": "L7cJDxTD21AF",
        "outputId": "07d2c3ce-4e17-4208-eb90-11c7de9ae32d"
      },
      "execution_count": 62,
      "outputs": [
        {
          "output_type": "stream",
          "name": "stdout",
          "text": [
            "College that has the most graduates is: 管理學院  which has  2542 graduates\n"
          ]
        }
      ]
    },
    {
      "cell_type": "markdown",
      "source": [
        "Plot a bar chart to show the distribution of # of graduates by college and sort it in descending order."
      ],
      "metadata": {
        "id": "RaVTbsJQvbCY"
      }
    },
    {
      "cell_type": "code",
      "source": [
        "num_students_group_by_college.sort('num_students sum', descending=True).barh('離校院別名稱(中)')"
      ],
      "metadata": {
        "colab": {
          "base_uri": "https://localhost:8080/",
          "height": 303
        },
        "id": "OMHXXHW0zjM1",
        "outputId": "47dbf1b2-1a28-47de-8087-148ac884e665"
      },
      "execution_count": 63,
      "outputs": [
        {
          "output_type": "display_data",
          "data": {
            "text/plain": [
              "<Figure size 432x288 with 1 Axes>"
            ],
            "image/png": "[encoded data removed]"
          },
          "metadata": {}
        }
      ]
    },
    {
      "cell_type": "markdown",
      "source": [
        "# 5. Which college has the most unbalanced 入學管道? In other words, we say it’s balanced if each 管道 has a similar number of graduates.\n"
      ],
      "metadata": {
        "id": "5CthcFrag_4b"
      }
    },
    {
      "cell_type": "markdown",
      "source": [
        "Use `group` and `pivot` methods to show a pivot table, where 入學管道 and college in vertical and horizon directions, respectively, and each cell shows a total number of students."
      ],
      "metadata": {
        "id": "j_NgzLGPqMbi"
      }
    },
    {
      "cell_type": "code",
      "source": [
        "# Get the table \n",
        "num_students_group_by_entrance = updated_tbl.group(['入學管道', '離校院別名稱(中)'], sum).select('入學管道', '離校院別名稱(中)' ,'num_students sum')\n",
        "\n",
        "# Get the pivot table\n",
        "pivot_table = num_students_group_by_entrance.pivot(columns='離校院別名稱(中)', rows='入學管道', values='num_students sum', collect=sum)\n",
        "\n",
        "pivot_table"
      ],
      "metadata": {
        "colab": {
          "base_uri": "https://localhost:8080/",
          "height": 143
        },
        "id": "wWiFOUdYh0vk",
        "outputId": "73389109-6908-4e4d-b3ff-9b9a58e52eaa"
      },
      "execution_count": 64,
      "outputs": [
        {
          "output_type": "execute_result",
          "data": {
            "text/plain": [
              "入學管道         | 地球科學學院 | 客家學院 | 工學院  | 文學院  | 理學院  | 生醫理工學院 | 管理學院 | 資訊電機學院\n",
              "學士班(指考分發/聯考) | 376    | 25   | 1231 | 850  | 928  | 185    | 1488 | 774\n",
              "學士班申請入學      | 368    | 54   | 635  | 204  | 462  | 64     | 659  | 874\n",
              "繁星推薦         | 105    | 8    | 351  | 158  | 263  | 87     | 395  | 397"
            ],
            "text/html": [
              "<table border=\"1\" class=\"dataframe\">\n",
              "    <thead>\n",
              "        <tr>\n",
              "            <th>入學管道</th> <th>地球科學學院</th> <th>客家學院</th> <th>工學院</th> <th>文學院</th> <th>理學院</th> <th>生醫理工學院</th> <th>管理學院</th> <th>資訊電機學院</th>\n",
              "        </tr>\n",
              "    </thead>\n",
              "    <tbody>\n",
              "        <tr>\n",
              "            <td>學士班(指考分發/聯考)</td> <td>376   </td> <td>25  </td> <td>1231</td> <td>850 </td> <td>928 </td> <td>185   </td> <td>1488</td> <td>774   </td>\n",
              "        </tr>\n",
              "        <tr>\n",
              "            <td>學士班申請入學     </td> <td>368   </td> <td>54  </td> <td>635 </td> <td>204 </td> <td>462 </td> <td>64    </td> <td>659 </td> <td>874   </td>\n",
              "        </tr>\n",
              "        <tr>\n",
              "            <td>繁星推薦        </td> <td>105   </td> <td>8   </td> <td>351 </td> <td>158 </td> <td>263 </td> <td>87    </td> <td>395 </td> <td>397   </td>\n",
              "        </tr>\n",
              "    </tbody>\n",
              "</table>"
            ]
          },
          "metadata": {},
          "execution_count": 64
        }
      ]
    },
    {
      "cell_type": "markdown",
      "source": [
        "Plot a bar chart to show the distribution of # of graduates by college and 入學管道."
      ],
      "metadata": {
        "id": "O6SVxAN7rmAw"
      }
    },
    {
      "cell_type": "code",
      "source": [
        "pivot_table.barh('入學管道')"
      ],
      "metadata": {
        "colab": {
          "base_uri": "https://localhost:8080/",
          "height": 282
        },
        "id": "av1jBpVwnJjY",
        "outputId": "43ece435-9c27-4433-b42c-68d479c2ead8"
      },
      "execution_count": 65,
      "outputs": [
        {
          "output_type": "display_data",
          "data": {
            "text/plain": [
              "<Figure size 432x288 with 1 Axes>"
            ],
            "image/png": "[encoded data removed]"
          },
          "metadata": {}
        }
      ]
    },
    {
      "cell_type": "markdown",
      "source": [
        "While it would be hard to find which college has the most unbalanced 入學管道."
      ],
      "metadata": {
        "id": "FA4b7v4U3pjd"
      }
    },
    {
      "cell_type": "code",
      "source": [
        "pivot_table = num_students_group_by_entrance.pivot(columns='入學管道', rows='離校院別名稱(中)', values='num_students sum', collect=sum)\n",
        "\n",
        "pivot_table.show(3)"
      ],
      "metadata": {
        "colab": {
          "base_uri": "https://localhost:8080/",
          "height": 173
        },
        "id": "E3i3wrE03dNI",
        "outputId": "b58503b1-557c-4eb1-d4ee-be7c395ef918"
      },
      "execution_count": 68,
      "outputs": [
        {
          "output_type": "display_data",
          "data": {
            "text/plain": [
              "<IPython.core.display.HTML object>"
            ],
            "text/html": [
              "<table border=\"1\" class=\"dataframe\">\n",
              "    <thead>\n",
              "        <tr>\n",
              "            <th>離校院別名稱(中)</th> <th>學士班(指考分發/聯考)</th> <th>學士班申請入學</th> <th>繁星推薦</th>\n",
              "        </tr>\n",
              "    </thead>\n",
              "    <tbody>\n",
              "        <tr>\n",
              "            <td>地球科學學院   </td> <td>376         </td> <td>368    </td> <td>105 </td>\n",
              "        </tr>\n",
              "        <tr>\n",
              "            <td>客家學院     </td> <td>25          </td> <td>54     </td> <td>8   </td>\n",
              "        </tr>\n",
              "        <tr>\n",
              "            <td>工學院      </td> <td>1231        </td> <td>635    </td> <td>351 </td>\n",
              "        </tr>\n",
              "    </tbody>\n",
              "</table>\n",
              "<p>... (5 rows omitted)</p>"
            ]
          },
          "metadata": {}
        }
      ]
    },
    {
      "cell_type": "code",
      "source": [
        "pivot_table.barh('離校院別名稱(中)')"
      ],
      "metadata": {
        "colab": {
          "base_uri": "https://localhost:8080/",
          "height": 282
        },
        "id": "-5gN8F9Z4NFg",
        "outputId": "5b130caf-8e58-4edd-f384-2f3d09997f54"
      },
      "execution_count": 69,
      "outputs": [
        {
          "output_type": "display_data",
          "data": {
            "text/plain": [
              "<Figure size 432x288 with 1 Axes>"
            ],
            "image/png": "[encoded data removed]"
          },
          "metadata": {}
        }
      ]
    }
  ]
}
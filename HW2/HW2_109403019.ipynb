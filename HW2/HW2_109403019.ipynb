{
  "nbformat": 4,
  "nbformat_minor": 0,
  "metadata": {
    "colab": {
      "provenance": [],
      "collapsed_sections": [],
      "include_colab_link": true
    },
    "kernelspec": {
      "name": "python3",
      "display_name": "Python 3"
    },
    "language_info": {
      "name": "python"
    }
  },
  "cells": [
    {
      "cell_type": "markdown",
      "metadata": {
        "id": "view-in-github",
        "colab_type": "text"
      },
      "source": [
        "<a href=\"https://colab.research.google.com/github/xxrjun/intro-to-data-science-fall22/blob/main/HW2/HW2_109403019.ipynb\" target=\"_parent\"><img src=\"https://colab.research.google.com/assets/colab-badge.svg\" alt=\"Open In Colab\"/></a>"
      ]
    },
    {
      "cell_type": "markdown",
      "source": [
        "# NCU Introduction to Data Science HW2\n",
        "\n",
        "Student Info: NCU MIS 109403019 鄒翔宇"
      ],
      "metadata": {
        "id": "4KPvwZNFBAXp"
      }
    },
    {
      "cell_type": "markdown",
      "source": [
        "## Palindrome\n",
        "\n",
        "Write a function that takes in a string and determines whether it is a palindrome. Ignore casing, punctuation, and spaces. (30 points)\n",
        "\n",
        "- \"palindrome\" is a word, phrase, or sequence that reads the same backward as forward\n",
        "- Ex:  “aaabbaaa” - True\n",
        "- Ex:  “Mr. Owl ate my metal worm” - True\n",
        "- Ex:  “abcd” - False\n"
      ],
      "metadata": {
        "id": "t35ZddMrBLw4"
      }
    },
    {
      "cell_type": "markdown",
      "source": [
        "I want to use ***two pointer*** method to solve this problem.  \n",
        "1. Because we need to ignore casing, I would set the entire input word to lowercase first.\n",
        "2. Ignore punctuation and spaces: if one pointer to a string is not an alphabet or is a space, then set the pointer to the next position."
      ],
      "metadata": {
        "id": "gUC_OAVMBdZz"
      }
    },
    {
      "cell_type": "code",
      "execution_count": null,
      "metadata": {
        "id": "rdpQeQybAyn7"
      },
      "outputs": [],
      "source": [
        "def isPalindrome(input):\n",
        "    \n",
        "    pl, pr = 0, len(input) - 1 # pointer left, pointer right\n",
        "\n",
        "    # Transer the entire input word to lowercase\n",
        "    input = input.lower() \n",
        "\n",
        "    # Doing two potiner algo\n",
        "    while(pl < pr):\n",
        "      while not input[pl].isalpha() or input[pl] == \" \" and pl < pr: \n",
        "        pl += 1\n",
        "\n",
        "\n",
        "      while not input[pr].isalpha() or input[pr] == \" \" and pr > pl: \n",
        "        pr -= 1 \n",
        "\n",
        "      if(input[pl] != input[pr]): \n",
        "        return False\n",
        "      \n",
        "\n",
        "      # Iterate\n",
        "      pl += 1\n",
        "      pr -=1\n",
        "\n",
        "    return True"
      ]
    },
    {
      "cell_type": "markdown",
      "source": [
        "Test Cases."
      ],
      "metadata": {
        "id": "cAC-rj7zIxNR"
      }
    },
    {
      "cell_type": "code",
      "source": [
        "print(isPalindrome(\"aaabbaaa\"))  # True\n",
        "\n",
        "print(isPalindrome(\"Mr. Owl ate my metal worm\")) # Ture\n",
        "\n",
        "print(isPalindrome(\"abcd\"))  # False\n",
        "\n",
        "print(isPalindrome(\"Sir, I demand, I am a maid named Iris.\")) # True"
      ],
      "metadata": {
        "colab": {
          "base_uri": "https://localhost:8080/"
        },
        "id": "ny8oP3PVH5J1",
        "outputId": "1c8bb075-fee3-422e-85a8-425536b0bc2a"
      },
      "execution_count": null,
      "outputs": [
        {
          "output_type": "stream",
          "name": "stdout",
          "text": [
            "True\n",
            "True\n",
            "False\n",
            "True\n"
          ]
        }
      ]
    },
    {
      "cell_type": "markdown",
      "source": [
        "## Monte Carlo Simulation"
      ],
      "metadata": {
        "id": "RTDuKcTzM-_U"
      }
    },
    {
      "cell_type": "markdown",
      "source": [
        "Define MyRoulette class and several functions."
      ],
      "metadata": {
        "id": "XnzFcIsQO8MD"
      }
    },
    {
      "cell_type": "code",
      "source": [
        "import random\n",
        "\n",
        "class MyRoulette():\n",
        "    def __init__(self):\n",
        "        self.pockets = []\n",
        "        for i in range(1, 37):\n",
        "            self.pockets.append(i)\n",
        "        self.ball = None\n",
        "        self.pocketOdds = len(self.pockets) - 1   # 賠率\n",
        "    def spin(self):\n",
        "        self.ball = random.choice(self.pockets)\n",
        "    def betPocket(self, pocket, amt):\n",
        "        if str(pocket) == str(self.ball):\n",
        "            return amt*self.pocketOdds  # 獲勝金額 = 賭金 * 賠率\n",
        "        else: return -amt   # 輸掉賭金\n",
        "    def __str__(self):\n",
        "        return 'My Roulette'\n",
        "\n",
        "def playRoulette(game, numSpins, pocket, bet, toPrint):\n",
        "    totPocket = 0\n",
        "    for i in range(numSpins):\n",
        "        game.spin()\n",
        "        totPocket += game.betPocket(pocket, bet)\n",
        "    if toPrint:\n",
        "        print(numSpins, 'spins of', game)\n",
        "        print('Expected return betting', pocket, '=',\\\n",
        "              str(100*totPocket/numSpins) + '%\\n')\n",
        "    return (totPocket/numSpins)\n",
        "\n",
        "def findPocketReturn(game, numTrials, trialSize, toPrint, pocket, bet):\n",
        "    pocketReturns = []\n",
        "    for t in range(numTrials):\n",
        "        trialVals = playRoulette(game, trialSize, pocket, bet, toPrint)\n",
        "        pocketReturns.append(trialVals)\n",
        "    return pocketReturns"
      ],
      "metadata": {
        "id": "Y-ur-grlOI2C"
      },
      "execution_count": null,
      "outputs": []
    },
    {
      "cell_type": "markdown",
      "source": [
        "Simulation"
      ],
      "metadata": {
        "id": "Kvvru_C-PB6_"
      }
    },
    {
      "cell_type": "code",
      "source": [
        "# Monte Carlo simulation begins.\n",
        "random.seed(0)\n",
        "numTrials = 20\n",
        "\n",
        "# Instantiate the Roulette game. \n",
        "game = MyRoulette()\n",
        "myPocket = 7\n",
        "myBet = 1\n",
        "for numSpins in (1000, 10000, 100000, 1000000):\n",
        "    print('\\nSimulate', numTrials, 'trials of', numSpins, 'spins each')\n",
        "    # The list of my simulation results.\n",
        "    pocketReturns = findPocketReturn(game, numTrials, numSpins, False, myPocket, myBet)\n",
        "    # Please implement the following one-liner, the expected return.\n",
        "    expReturn = sum(pocketReturns) / len(pocketReturns)  / myBet * 100 \n",
        "    print('Exp. return for', game, '=', str(round(expReturn, 4)) + '%')"
      ],
      "metadata": {
        "colab": {
          "base_uri": "https://localhost:8080/"
        },
        "id": "SMjSSfD8O6Y0",
        "outputId": "d1148327-51d7-4208-b990-9d9ece7b383d"
      },
      "execution_count": null,
      "outputs": [
        {
          "output_type": "stream",
          "name": "stdout",
          "text": [
            "\n",
            "Simulate 20 trials of 1000 spins each\n",
            "Exp. return for My Roulette = 5.12%\n",
            "\n",
            "Simulate 20 trials of 10000 spins each\n",
            "Exp. return for My Roulette = 0.836%\n",
            "\n",
            "Simulate 20 trials of 100000 spins each\n",
            "Exp. return for My Roulette = 0.3122%\n",
            "\n",
            "Simulate 20 trials of 1000000 spins each\n",
            "Exp. return for My Roulette = 0.0474%\n"
          ]
        }
      ]
    }
  ]
}